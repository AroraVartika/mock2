{
  "nbformat": 4,
  "nbformat_minor": 0,
  "metadata": {
    "colab": {
      "provenance": []
    },
    "kernelspec": {
      "name": "python3",
      "display_name": "Python 3"
    },
    "language_info": {
      "name": "python"
    }
  },
  "cells": [
    {
      "cell_type": "markdown",
      "source": [
        "Given a non-negative integer x, return the square root of x rounded down to the nearest integer. The returned integer should be non-negative as well. You must not use any built-in exponent function or operator.\n",
        "\n",
        " Example 1:\n",
        "Input: x = 4 Output: 2 Explanation: The square root of 4 is 2, so we return 2.\n",
        "Example 2:\n",
        "\n",
        "Input: x = 8 Output: 2 Explanation: The square root of 8 is 2.82842..., and since we round it down to the nearest integer, 2 is returned.\n",
        "Constraints:\n",
        "\n",
        "0 <= x <= 2^31 - 1\n"
      ],
      "metadata": {
        "id": "YSy9gmhed2Zq"
      }
    },
    {
      "cell_type": "code",
      "source": [
        "def floorSqrt(x):\n",
        "\n",
        "    if (x == 0 or x == 1):\n",
        "        return x\n",
        "\n",
        "    i = 1\n",
        "    result = 1\n",
        "    while (result <= x):\n",
        "\n",
        "        i += 1\n",
        "        result = i * i\n",
        "\n",
        "    return i - 1\n",
        "\n",
        "\n",
        "x = 8\n",
        "print(floorSqrt(x))\n",
        ""
      ],
      "metadata": {
        "colab": {
          "base_uri": "https://localhost:8080/"
        },
        "id": "cQ1qTgAXd2x0",
        "outputId": "a62bce2e-d952-41e8-8439-92cc46423a74"
      },
      "execution_count": 1,
      "outputs": [
        {
          "output_type": "stream",
          "name": "stdout",
          "text": [
            "2\n"
          ]
        }
      ]
    }
  ]
}