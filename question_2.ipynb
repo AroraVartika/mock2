{
  "nbformat": 4,
  "nbformat_minor": 0,
  "metadata": {
    "colab": {
      "provenance": []
    },
    "kernelspec": {
      "name": "python3",
      "display_name": "Python 3"
    },
    "language_info": {
      "name": "python"
    }
  },
  "cells": [
    {
      "cell_type": "markdown",
      "source": [
        "You are given two non-empty linked lists representing two non-negative integers. The digits are stored in reverse order, and each of their nodes contains a single digit. Add the two numbers and return the sum as a linked list.\n",
        "\n",
        "You may assume the two numbers do not contain any leading zero, except the number 0 itself.\n",
        "\n",
        "\n",
        "Example 1:\n",
        "\n",
        "Input: l1 = [2,4,3], l2 = [5,6,4] Output: [7,0,8] Explanation: 342 + 465 = 807.\n",
        "\n",
        "Example 2:\n",
        "\n",
        "Input: l1 = [0], l2 = [0] Output: [0]\n",
        "\n",
        "Example 3:\n",
        "\n",
        "Input: l1 = [9,9,9,9,9,9,9], l2 = [9,9,9,9] Output: [8,9,9,9,0,0,0,1]\n",
        "\n",
        ""
      ],
      "metadata": {
        "id": "n_SXfzOfhUW5"
      }
    },
    {
      "cell_type": "code",
      "source": [
        "class Node:\n",
        "    def __init__(self, data):\n",
        "        self.data = data\n",
        "        self.next = None\n",
        "\n",
        "class LinkedList:\n",
        "    def __init__(self):\n",
        "        self.head = None\n",
        "    def push(self, new_data):\n",
        "        new_node = Node(new_data)\n",
        "        new_node.next = self.head\n",
        "        self.head = new_node\n",
        "\n",
        "    def printList(self):\n",
        "        n = self.head\n",
        "        while n:\n",
        "            print(n.data, end=' ')\n",
        "            n = n.next\n",
        "        print()\n",
        "\n",
        "def addTwoLists(first, second):\n",
        "    num1, num2 = 0, 0\n",
        "    while first.head:\n",
        "        num1 = num1*10 + first.head.data\n",
        "        first.head = first.head.next\n",
        "    while second.head:\n",
        "        num2 = num2*10 + second.head.data\n",
        "        second.head = second.head.next\n",
        "    num3 = num1 + num2\n",
        "    temp = LinkedList()\n",
        "    while num3:\n",
        "        last = num3 % 10\n",
        "        temp.push(last)\n",
        "        num3 = num3 // 10\n",
        "    return temp\n",
        "\n",
        "if __name__ == '__main__':\n",
        "    first = LinkedList()\n",
        "    second = LinkedList()\n",
        "    first.push(2)\n",
        "    first.push(4)\n",
        "    first.push(3)\n",
        "\n",
        "    second.push(5)\n",
        "    second.push(6)\n",
        "    second.push(4)\n",
        "    ans = addTwoLists(first, second)\n",
        "\n",
        "    print(\"Sum is : \", end=' ')\n",
        "    ans.printList()"
      ],
      "metadata": {
        "colab": {
          "base_uri": "https://localhost:8080/"
        },
        "id": "ArAoJfCShUqD",
        "outputId": "a0fe7063-bde0-4efe-b613-0f1b8c01e088"
      },
      "execution_count": 2,
      "outputs": [
        {
          "output_type": "stream",
          "name": "stdout",
          "text": [
            "Sum is :  8 0 7 \n"
          ]
        }
      ]
    },
    {
      "cell_type": "code",
      "source": [],
      "metadata": {
        "id": "svRpnZMlh2AB"
      },
      "execution_count": null,
      "outputs": []
    }
  ]
}